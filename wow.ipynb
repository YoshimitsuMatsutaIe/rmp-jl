{
 "cells": [
  {
   "cell_type": "code",
   "execution_count": null,
   "metadata": {},
   "outputs": [],
   "source": [
    "struct Node\n",
    "    a::Union{Nothing, Int}\n",
    "    f::Function\n",
    "end"
   ]
  },
  {
   "cell_type": "code",
   "execution_count": null,
   "metadata": {},
   "outputs": [],
   "source": [
    "f(x) = x+1\n",
    "hoge = Node(1, f)"
   ]
  },
  {
   "cell_type": "code",
   "execution_count": 1,
   "metadata": {},
   "outputs": [],
   "source": [
    "struct param\n",
    "    a::Float64\n",
    "    b::Float64\n",
    "end\n",
    "\n",
    "function (p::param)(x)\n",
    "    p.a * x + p.b\n",
    "end"
   ]
  },
  {
   "cell_type": "code",
   "execution_count": 2,
   "metadata": {},
   "outputs": [
    {
     "data": {
      "text/plain": [
       "11.0"
      ]
     },
     "metadata": {},
     "output_type": "display_data"
    }
   ],
   "source": [
    "p = param(2, 3)\n",
    "\n",
    "p(4)"
   ]
  },
  {
   "cell_type": "code",
   "execution_count": 9,
   "metadata": {},
   "outputs": [
    {
     "data": {
      "text/plain": [
       "mynorm (generic function with 1 method)"
      ]
     },
     "execution_count": 9,
     "metadata": {},
     "output_type": "execute_result"
    }
   ],
   "source": [
    "using LinearAlgebra\n",
    "\n",
    "function mynorm(x)\n",
    "    out = 0\n",
    "    for i in 1:length(x)\n",
    "        out += x[i]^2\n",
    "    end\n",
    "    sqrt(out)\n",
    "end"
   ]
  },
  {
   "cell_type": "code",
   "execution_count": 10,
   "metadata": {},
   "outputs": [
    {
     "data": {
      "text/plain": [
       "9-element Vector{Int64}:\n",
       " 1\n",
       " 2\n",
       " 3\n",
       " 4\n",
       " 5\n",
       " 6\n",
       " 7\n",
       " 8\n",
       " 9"
      ]
     },
     "execution_count": 10,
     "metadata": {},
     "output_type": "execute_result"
    }
   ],
   "source": [
    "s = [\n",
    "    [1, 2, 3]\n",
    "    [4, 5, 6]\n",
    "    [7, 8, 9]\n",
    "]\n"
   ]
  },
  {
   "cell_type": "code",
   "execution_count": 11,
   "metadata": {},
   "outputs": [
    {
     "data": {
      "text/plain": [
       "9-element Vector{Float64}:\n",
       " 1.0\n",
       " 2.0\n",
       " 3.0\n",
       " 4.0\n",
       " 5.0\n",
       " 6.0\n",
       " 7.0\n",
       " 8.0\n",
       " 9.0"
      ]
     },
     "execution_count": 11,
     "metadata": {},
     "output_type": "execute_result"
    }
   ],
   "source": [
    "x = mynorm.(s)"
   ]
  },
  {
   "cell_type": "code",
   "execution_count": 12,
   "metadata": {},
   "outputs": [
    {
     "ename": "LoadError",
     "evalue": "MethodError: \u001b[0mCannot `convert` an object of type \n\u001b[0m  \u001b[92mFloat64\u001b[39m\u001b[0m to an object of type \n\u001b[0m  \u001b[91mVector\u001b[39m\n\u001b[0mClosest candidates are:\n\u001b[0m  convert(::Type{T}, \u001b[91m::Factorization\u001b[39m) where T<:AbstractArray at /usr/local/lib/julia-1.7.3/share/julia/stdlib/v1.7/LinearAlgebra/src/factorization.jl:58\n\u001b[0m  convert(::Type{T}, \u001b[91m::AbstractArray\u001b[39m) where T<:Array at /usr/local/lib/julia-1.7.3/share/julia/base/array.jl:554\n\u001b[0m  convert(::Type{T}, \u001b[91m::T\u001b[39m) where T<:AbstractArray at /usr/local/lib/julia-1.7.3/share/julia/base/abstractarray.jl:16\n\u001b[0m  ...",
     "output_type": "error",
     "traceback": [
      "MethodError: \u001b[0mCannot `convert` an object of type \n\u001b[0m  \u001b[92mFloat64\u001b[39m\u001b[0m to an object of type \n\u001b[0m  \u001b[91mVector\u001b[39m\n\u001b[0mClosest candidates are:\n\u001b[0m  convert(::Type{T}, \u001b[91m::Factorization\u001b[39m) where T<:AbstractArray at /usr/local/lib/julia-1.7.3/share/julia/stdlib/v1.7/LinearAlgebra/src/factorization.jl:58\n\u001b[0m  convert(::Type{T}, \u001b[91m::AbstractArray\u001b[39m) where T<:Array at /usr/local/lib/julia-1.7.3/share/julia/base/array.jl:554\n\u001b[0m  convert(::Type{T}, \u001b[91m::T\u001b[39m) where T<:AbstractArray at /usr/local/lib/julia-1.7.3/share/julia/base/abstractarray.jl:16\n\u001b[0m  ...",
      "",
      "Stacktrace:",
      " [1] push!(a::Vector{Vector}, item::Float64)",
      "   @ Base ./array.jl:994",
      " [2] top-level scope",
      "   @ ./In[12]:3",
      " [3] eval",
      "   @ ./boot.jl:373 [inlined]",
      " [4] include_string(mapexpr::typeof(REPL.softscope), mod::Module, code::String, filename::String)",
      "   @ Base ./loading.jl:1196"
     ]
    }
   ],
   "source": [
    "y = Float64[]\n",
    "for t in s\n",
    "    push!(y, norm(t))\n",
    "end\n",
    "y"
   ]
  }
 ],
 "metadata": {
  "kernelspec": {
   "display_name": "Julia 1.7.3",
   "language": "julia",
   "name": "julia-1.7"
  },
  "language_info": {
   "file_extension": ".jl",
   "mimetype": "application/julia",
   "name": "julia",
   "version": "1.7.3"
  },
  "orig_nbformat": 4
 },
 "nbformat": 4,
 "nbformat_minor": 2
}
